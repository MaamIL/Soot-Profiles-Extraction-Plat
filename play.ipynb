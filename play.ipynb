{
 "cells": [
  {
   "cell_type": "code",
   "execution_count": 13,
   "id": "0fca7907",
   "metadata": {},
   "outputs": [
    {
     "name": "stdout",
     "output_type": "stream",
     "text": [
      "PyTorch version: 2.7.0+cpu\n",
      "CUDA version used to compile PyTorch: None\n",
      "Is CUDA available? False\n",
      "CUDA device count: 0\n",
      "Device name (if available): N/A\n"
     ]
    }
   ],
   "source": [
    "import torch\n",
    "print(\"PyTorch version:\", torch.__version__)\n",
    "print(\"CUDA version used to compile PyTorch:\", torch.version.cuda)\n",
    "print(\"Is CUDA available?\", torch.cuda.is_available())\n",
    "print(\"CUDA device count:\", torch.cuda.device_count())\n",
    "print(\"Device name (if available):\", torch.cuda.get_device_name(0) if torch.cuda.is_available() else \"N/A\")\n"
   ]
  },
  {
   "cell_type": "code",
   "execution_count": 11,
   "id": "cc6ac153",
   "metadata": {},
   "outputs": [
    {
     "name": "stdout",
     "output_type": "stream",
     "text": [
      "None\n",
      "False\n"
     ]
    }
   ],
   "source": [
    "import torch\n",
    "print(torch.version.cuda)  # Should print 12.1 or similar\n",
    "print(torch.cuda.is_available())  # Should print True if everything is correct"
   ]
  },
  {
   "cell_type": "code",
   "execution_count": 16,
   "id": "f9bb5b14",
   "metadata": {},
   "outputs": [
    {
     "ename": "ModuleNotFoundError",
     "evalue": "No module named 'torch.utils.serialization'",
     "output_type": "error",
     "traceback": [
      "\u001b[31m---------------------------------------------------------------------------\u001b[39m",
      "\u001b[31mModuleNotFoundError\u001b[39m                       Traceback (most recent call last)",
      "\u001b[36mCell\u001b[39m\u001b[36m \u001b[39m\u001b[32mIn[16]\u001b[39m\u001b[32m, line 3\u001b[39m\n\u001b[32m      1\u001b[39m \u001b[38;5;28;01mimport\u001b[39;00m\u001b[38;5;250m \u001b[39m\u001b[34;01mhiddenlayer\u001b[39;00m\u001b[38;5;250m \u001b[39m\u001b[38;5;28;01mas\u001b[39;00m\u001b[38;5;250m \u001b[39m\u001b[34;01mhl\u001b[39;00m\n\u001b[32m      2\u001b[39m \u001b[38;5;28;01mimport\u001b[39;00m\u001b[38;5;250m \u001b[39m\u001b[34;01mtorch\u001b[39;00m\n\u001b[32m----> \u001b[39m\u001b[32m3\u001b[39m model = \u001b[43mtorch\u001b[49m\u001b[43m.\u001b[49m\u001b[43mload\u001b[49m\u001b[43m(\u001b[49m\u001b[33;43m\"\u001b[39;49m\u001b[33;43mC:/Users/User/Documents/Sooth_Features_Extraction_plat/Outputs_CNNencdec_both_2025-0527-111352/best_flame_model.pth\u001b[39;49m\u001b[33;43m\"\u001b[39;49m\u001b[43m)\u001b[49m\n\u001b[32m      4\u001b[39m model_graph = hl.build_graph(model, torch.randn(\u001b[32m1\u001b[39m, \u001b[32m3\u001b[39m, \u001b[32m224\u001b[39m, \u001b[32m224\u001b[39m))\n\u001b[32m      5\u001b[39m model_graph.save(\u001b[33m\"\u001b[39m\u001b[33mmodel_graph\u001b[39m\u001b[33m\"\u001b[39m, \u001b[38;5;28mformat\u001b[39m=\u001b[33m\"\u001b[39m\u001b[33mpng\u001b[39m\u001b[33m\"\u001b[39m)\n",
      "\u001b[36mFile \u001b[39m\u001b[32mc:\\Users\\User\\Documents\\Sooth_Features_Extraction_plat\\.venv_py311\\Lib\\site-packages\\torch\\serialization.py:1470\u001b[39m, in \u001b[36mload\u001b[39m\u001b[34m(f, map_location, pickle_module, weights_only, mmap, **pickle_load_args)\u001b[39m\n\u001b[32m      0\u001b[39m <Error retrieving source code with stack_data see ipython/ipython#13598>\n",
      "\u001b[31mModuleNotFoundError\u001b[39m: No module named 'torch.utils.serialization'"
     ]
    }
   ],
   "source": [
    "import hiddenlayer as hl\n",
    "import torch\n",
    "model = torch.load(\"C:/Users/User/Documents/Sooth_Features_Extraction_plat/Outputs_CNNencdec_both_2025-0527-111352/best_flame_model.pth\")\n",
    "model_graph = hl.build_graph(model, torch.randn(1, 3, 224, 224))\n",
    "model_graph.save(\"model_graph\", format=\"png\")"
   ]
  },
  {
   "cell_type": "code",
   "execution_count": 9,
   "id": "a5ff8513",
   "metadata": {},
   "outputs": [
    {
     "name": "stdout",
     "output_type": "stream",
     "text": [
      "global_img_min: 0.0\n",
      "global_img_max: 19941.026744724255\n",
      "global_T_min: 299.0\n",
      "global_T_max: 2828.0\n",
      "global_fv_min: 0.0\n",
      "global_fv_max: 11.224797513519933\n",
      "Fvmax_height: 808\n",
      "Fvmax_width: 213\n",
      "Imagemax_height: 808\n",
      "Imagemax_width: 213\n"
     ]
    }
   ],
   "source": [
    "import os\n",
    "\n",
    "import torch\n",
    "\n",
    "import numpy as np\n",
    "import scipy.io as sio\n",
    "\n",
    "\n",
    "\n",
    "class Config:\n",
    "    \n",
    "    def __init__(self):\n",
    "        self.root_dir = 'C:/Users/User/Documents/GenerateData/GeneratedData'  # Path to your dataset\n",
    "        self.global_img_min = min([\n",
    "            sio.loadmat(os.path.join(self.root_dir, d, \"CFDImage.mat\"))[\"CFDImage\"].min() for d in os.listdir(self.root_dir) if os.path.isdir(os.path.join(self.root_dir, d))\n",
    "        ]) #min image value in the dataset for normalization        \n",
    "        self.global_img_max = max([\n",
    "            sio.loadmat(os.path.join(self.root_dir, d, \"CFDImage.mat\"))[\"CFDImage\"].max() for d in os.listdir(self.root_dir) if os.path.isdir(os.path.join(self.root_dir, d))\n",
    "        ]) #max image value in the dataset for normalization\n",
    "          \n",
    "        self.global_T_min = min([\n",
    "            sio.loadmat(os.path.join(self.root_dir, d, \"sootCalculation.mat\"))[\"T\"].min() for d in os.listdir(self.root_dir) if os.path.isdir(os.path.join(self.root_dir, d))\n",
    "        ]) #min temp in the dataset for normalization         \n",
    "        self.global_T_max = max([\n",
    "            sio.loadmat(os.path.join(self.root_dir, d, \"sootCalculation.mat\"))[\"T\"].max() for d in os.listdir(self.root_dir) if os.path.isdir(os.path.join(self.root_dir, d))\n",
    "        ]) #max temp in the dataset for normalization\n",
    "\n",
    "        self.global_fv_min = min([\n",
    "            sio.loadmat(os.path.join(self.root_dir, d, \"sootCalculation.mat\"))[\"fv\"].min() for d in os.listdir(self.root_dir) if os.path.isdir(os.path.join(self.root_dir, d))\n",
    "        ]) #min Fv in the dataset for normalization \n",
    "        self.global_fv_max = max([\n",
    "            sio.loadmat(os.path.join(self.root_dir, d, \"sootCalculation.mat\"))[\"fv\"].max() for d in os.listdir(self.root_dir) if os.path.isdir(os.path.join(self.root_dir, d))\n",
    "        ]) #max Fv in the dataset for normalization  \n",
    "        # #find max Fv size in dir\n",
    "        self.Fvmax_height = max(\n",
    "            sio.loadmat(os.path.join(self.root_dir, d, \"sootCalculation.mat\"))[\"fv\"].shape[0]\n",
    "            for d in os.listdir(self.root_dir) if os.path.isdir(os.path.join(self.root_dir, d))\n",
    "        )\n",
    "        self.Fvmax_width = max(\n",
    "            sio.loadmat(os.path.join(self.root_dir, d, \"sootCalculation.mat\"))[\"fv\"].shape[1]\n",
    "            for d in os.listdir(self.root_dir) if os.path.isdir(os.path.join(self.root_dir, d))\n",
    "        )\n",
    "        self.Imagemax_height = max(\n",
    "            (sio.loadmat(os.path.join(self.root_dir, d, \"CFDImage.mat\"))[\"CFDImage\"].shape[0]\n",
    "            for d in os.listdir(self.root_dir) if os.path.isdir(os.path.join(self.root_dir, d)))\n",
    "        )\n",
    "        self.Imagemax_width = max(\n",
    "            (sio.loadmat(os.path.join(self.root_dir, d, \"CFDImage.mat\"))[\"CFDImage\"].shape[1]\n",
    "            for d in os.listdir(self.root_dir) if os.path.isdir(os.path.join(self.root_dir, d)))\n",
    "        )       \n",
    "if __name__ == \"__main__\":\n",
    "    # Set random seed for reproducibility\n",
    "    torch.manual_seed(42)\n",
    "    np.random.seed(42)\n",
    "    #config\n",
    "    config = Config()\n",
    "    print(\"global_img_min:\", config.global_img_min)\n",
    "    print(\"global_img_max:\", config.global_img_max)\n",
    "    print(\"global_T_min:\", config.global_T_min)\n",
    "    print(\"global_T_max:\", config.global_T_max)\n",
    "    print(\"global_fv_min:\", config.global_fv_min)\n",
    "    print(\"global_fv_max:\", config.global_fv_max)\n",
    "    print(\"Fvmax_height:\", config.Fvmax_height)\n",
    "    print(\"Fvmax_width:\", config.Fvmax_width)\n",
    "    print(\"Imagemax_height:\", config.Imagemax_height)\n",
    "    print(\"Imagemax_width:\", config.Imagemax_width)"
   ]
  },
  {
   "cell_type": "code",
   "execution_count": 3,
   "id": "39b19eed",
   "metadata": {},
   "outputs": [
    {
     "name": "stderr",
     "output_type": "stream",
     "text": [
      "Loading CFDImage values: 100%|██████████| 11868/11868 [01:25<00:00, 138.04it/s]\n"
     ]
    },
    {
     "name": "stdout",
     "output_type": "stream",
     "text": [
      "number of CFDImage.mat files with values larger than 15000: 136\n"
     ]
    }
   ],
   "source": [
    "import os\n",
    "import scipy.io as sio\n",
    "import numpy as np\n",
    "import matplotlib.pyplot as plt\n",
    "from tqdm import tqdm  # for a progress bar\n",
    "import shutil\n",
    "\n",
    "def load_all_values(root_dir):\n",
    "    all_values = []\n",
    "    dirs = [d for d in os.listdir(root_dir) if os.path.isdir(os.path.join(root_dir, d))]\n",
    "    out_dir = 'C:/Users/User/Documents/GenerateData__20000'\n",
    "    num_mat = 0\n",
    "    for d in tqdm(dirs, desc=\"Loading CFDImage values\"):\n",
    "        mat_path = os.path.join(root_dir, d, \"CFDImage.mat\")\n",
    "        dir_path = os.path.join(root_dir, d)\n",
    "        if os.path.exists(mat_path):\n",
    "            data = sio.loadmat(mat_path)[\"CFDImage\"]\n",
    "            move_flag = False\n",
    "            #check if there is a value larger than 255 or smaller than 0\n",
    "            if np.any(data > 15000):\n",
    "                num_mat += 1\n",
    "                # print(f\"Warning: {np.sum(data > 20000)} Values out of range > 20000 in {mat_path}\")\n",
    "                move_flag = True\n",
    "            if np.any(data < 0):\n",
    "                # print(f\"Warning: {np.sum(data < 0)} Values out of range < 0 in {mat_path}\")\n",
    "                move_flag = True\n",
    "            # if move_flag:\n",
    "            #     shutil.move(dir_path, os.path.join(out_dir, d))\n",
    "            #     print(f\"Moved {dir_path} to {os.path.join(out_dir, d)}\")\n",
    "            #     continue\n",
    "            all_values.append(data.flatten())\n",
    "\n",
    "    return np.concatenate(all_values), num_mat\n",
    "\n",
    "# Set your directory\n",
    "root_dir = 'C:/Users/User/Documents/GenerateData/GeneratedData'\n",
    "\n",
    "# Load all values\n",
    "all_data, num = load_all_values(root_dir)\n",
    "# print(f\"min value: {np.min(all_data)}\")\n",
    "# print(f\"max value: {np.max(all_data)}\")\n",
    "# print(f\"number of negative values: {np.sum(all_data < 0)}\")\n",
    "# print(f\"number of values larger than 4049: {np.sum(all_data > 4049)}\")\n",
    "print(f\"number of CFDImage.mat files with values larger than 15000: {num}\")\n",
    "# print(f\"~~~ total number of values: {len(all_data)}\")\n",
    "\n",
    "# # Plot histogram\n",
    "# plt.figure(figsize=(10, 6))\n",
    "# plt.hist(all_data, bins=1000, color='skyblue', edgecolor='black', density=True)\n",
    "# plt.title(\"Histogram of CFDImage Values\")\n",
    "# plt.xlabel(\"Value\")\n",
    "# plt.ylabel(\"Frequency\")\n",
    "# plt.xlim([-1000, 20000])  # Adjust based on your data range\n",
    "# plt.grid(True)\n",
    "# plt.tight_layout()\n",
    "# plt.show()\n"
   ]
  },
  {
   "cell_type": "code",
   "execution_count": null,
   "id": "a4ab855c",
   "metadata": {},
   "outputs": [
    {
     "name": "stderr",
     "output_type": "stream",
     "text": [
      "Loading CFDImage values:   1%|          | 88/12000 [00:00<01:28, 134.86it/s]"
     ]
    },
    {
     "name": "stdout",
     "output_type": "stream",
     "text": [
      "Moved C:/Users/User/Documents/GenerateData/GeneratedData\\10060 to C:/Users/User/Documents/GenerateData__20000\\10060\n"
     ]
    },
    {
     "name": "stderr",
     "output_type": "stream",
     "text": [
      "Loading CFDImage values:   2%|▏         | 211/12000 [00:01<01:31, 129.26it/s]"
     ]
    },
    {
     "name": "stdout",
     "output_type": "stream",
     "text": [
      "Moved C:/Users/User/Documents/GenerateData/GeneratedData\\10170 to C:/Users/User/Documents/GenerateData__20000\\10170\n"
     ]
    },
    {
     "name": "stderr",
     "output_type": "stream",
     "text": [
      "Loading CFDImage values:   5%|▍         | 599/12000 [00:04<01:27, 130.22it/s]"
     ]
    },
    {
     "name": "stdout",
     "output_type": "stream",
     "text": [
      "Moved C:/Users/User/Documents/GenerateData/GeneratedData\\10519 to C:/Users/User/Documents/GenerateData__20000\\10519\n"
     ]
    },
    {
     "name": "stderr",
     "output_type": "stream",
     "text": [
      "Loading CFDImage values:   6%|▌         | 676/12000 [00:05<01:21, 139.57it/s]"
     ]
    },
    {
     "name": "stdout",
     "output_type": "stream",
     "text": [
      "Moved C:/Users/User/Documents/GenerateData/GeneratedData\\10594 to C:/Users/User/Documents/GenerateData__20000\\10594\n"
     ]
    },
    {
     "name": "stderr",
     "output_type": "stream",
     "text": [
      "Loading CFDImage values:  10%|█         | 1249/12000 [00:09<01:14, 145.27it/s]"
     ]
    },
    {
     "name": "stdout",
     "output_type": "stream",
     "text": [
      "Moved C:/Users/User/Documents/GenerateData/GeneratedData\\11106 to C:/Users/User/Documents/GenerateData__20000\\11106\n"
     ]
    },
    {
     "name": "stderr",
     "output_type": "stream",
     "text": [
      "Loading CFDImage values:  11%|█         | 1314/12000 [00:09<01:17, 138.14it/s]"
     ]
    },
    {
     "name": "stdout",
     "output_type": "stream",
     "text": [
      "Moved C:/Users/User/Documents/GenerateData/GeneratedData\\1117 to C:/Users/User/Documents/GenerateData__20000\\1117\n"
     ]
    },
    {
     "name": "stderr",
     "output_type": "stream",
     "text": [
      "Loading CFDImage values:  11%|█▏        | 1371/12000 [00:10<01:24, 126.09it/s]"
     ]
    },
    {
     "name": "stdout",
     "output_type": "stream",
     "text": [
      "Moved C:/Users/User/Documents/GenerateData/GeneratedData\\11215 to C:/Users/User/Documents/GenerateData__20000\\11215\n"
     ]
    },
    {
     "name": "stderr",
     "output_type": "stream",
     "text": [
      "Loading CFDImage values:  12%|█▏        | 1483/12000 [00:11<01:19, 132.66it/s]"
     ]
    },
    {
     "name": "stdout",
     "output_type": "stream",
     "text": [
      "Moved C:/Users/User/Documents/GenerateData/GeneratedData\\11320 to C:/Users/User/Documents/GenerateData__20000\\11320\n"
     ]
    },
    {
     "name": "stderr",
     "output_type": "stream",
     "text": [
      "Loading CFDImage values:  13%|█▎        | 1547/12000 [00:11<01:10, 147.82it/s]"
     ]
    },
    {
     "name": "stdout",
     "output_type": "stream",
     "text": [
      "Moved C:/Users/User/Documents/GenerateData/GeneratedData\\11369 to C:/Users/User/Documents/GenerateData__20000\\11369\n"
     ]
    },
    {
     "name": "stderr",
     "output_type": "stream",
     "text": [
      "Loading CFDImage values:  13%|█▎        | 1608/12000 [00:11<01:12, 143.09it/s]"
     ]
    },
    {
     "name": "stdout",
     "output_type": "stream",
     "text": [
      "Moved C:/Users/User/Documents/GenerateData/GeneratedData\\11431 to C:/Users/User/Documents/GenerateData__20000\\11431\n"
     ]
    },
    {
     "name": "stderr",
     "output_type": "stream",
     "text": [
      "Loading CFDImage values:  14%|█▍        | 1655/12000 [00:12<01:14, 139.22it/s]"
     ]
    },
    {
     "name": "stdout",
     "output_type": "stream",
     "text": [
      "Moved C:/Users/User/Documents/GenerateData/GeneratedData\\11462 to C:/Users/User/Documents/GenerateData__20000\\11462\n"
     ]
    },
    {
     "name": "stderr",
     "output_type": "stream",
     "text": [
      "Loading CFDImage values:  15%|█▍        | 1771/12000 [00:13<01:14, 137.96it/s]"
     ]
    },
    {
     "name": "stdout",
     "output_type": "stream",
     "text": [
      "Moved C:/Users/User/Documents/GenerateData/GeneratedData\\1157 to C:/Users/User/Documents/GenerateData__20000\\1157\n"
     ]
    },
    {
     "name": "stderr",
     "output_type": "stream",
     "text": [
      "Loading CFDImage values:  15%|█▌        | 1853/12000 [00:13<01:23, 121.13it/s]"
     ]
    },
    {
     "name": "stdout",
     "output_type": "stream",
     "text": [
      "Moved C:/Users/User/Documents/GenerateData/GeneratedData\\11653 to C:/Users/User/Documents/GenerateData__20000\\11653\n"
     ]
    },
    {
     "name": "stderr",
     "output_type": "stream",
     "text": [
      "Loading CFDImage values:  16%|█▌        | 1896/12000 [00:14<01:15, 134.70it/s]"
     ]
    },
    {
     "name": "stdout",
     "output_type": "stream",
     "text": [
      "Moved C:/Users/User/Documents/GenerateData/GeneratedData\\11693 to C:/Users/User/Documents/GenerateData__20000\\11693\n",
      "Moved C:/Users/User/Documents/GenerateData/GeneratedData\\11708 to C:/Users/User/Documents/GenerateData__20000\\11708\n"
     ]
    },
    {
     "name": "stderr",
     "output_type": "stream",
     "text": [
      "Loading CFDImage values:  16%|█▋        | 1980/12000 [00:14<01:15, 132.29it/s]"
     ]
    },
    {
     "name": "stdout",
     "output_type": "stream",
     "text": [
      "Moved C:/Users/User/Documents/GenerateData/GeneratedData\\1176 to C:/Users/User/Documents/GenerateData__20000\\1176\n"
     ]
    },
    {
     "name": "stderr",
     "output_type": "stream",
     "text": [
      "Loading CFDImage values:  17%|█▋        | 2063/12000 [00:15<01:22, 121.04it/s]"
     ]
    },
    {
     "name": "stdout",
     "output_type": "stream",
     "text": [
      "Moved C:/Users/User/Documents/GenerateData/GeneratedData\\11837 to C:/Users/User/Documents/GenerateData__20000\\11837\n"
     ]
    },
    {
     "name": "stderr",
     "output_type": "stream",
     "text": [
      "Loading CFDImage values:  18%|█▊        | 2121/12000 [00:15<01:16, 128.69it/s]"
     ]
    },
    {
     "name": "stdout",
     "output_type": "stream",
     "text": [
      "Moved C:/Users/User/Documents/GenerateData/GeneratedData\\1189 to C:/Users/User/Documents/GenerateData__20000\\1189\n"
     ]
    },
    {
     "name": "stderr",
     "output_type": "stream",
     "text": [
      "Loading CFDImage values:  18%|█▊        | 2206/12000 [00:16<01:17, 126.80it/s]"
     ]
    },
    {
     "name": "stdout",
     "output_type": "stream",
     "text": [
      "Moved C:/Users/User/Documents/GenerateData/GeneratedData\\1197 to C:/Users/User/Documents/GenerateData__20000\\1197\n"
     ]
    },
    {
     "name": "stderr",
     "output_type": "stream",
     "text": [
      "Loading CFDImage values:  19%|█▊        | 2233/12000 [00:16<01:18, 124.86it/s]"
     ]
    },
    {
     "name": "stdout",
     "output_type": "stream",
     "text": [
      "Moved C:/Users/User/Documents/GenerateData/GeneratedData\\11999 to C:/Users/User/Documents/GenerateData__20000\\11999\n"
     ]
    },
    {
     "name": "stderr",
     "output_type": "stream",
     "text": [
      "Loading CFDImage values:  19%|█▉        | 2291/12000 [00:17<01:12, 133.78it/s]"
     ]
    },
    {
     "name": "stdout",
     "output_type": "stream",
     "text": [
      "Moved C:/Users/User/Documents/GenerateData/GeneratedData\\1246 to C:/Users/User/Documents/GenerateData__20000\\1246\n"
     ]
    },
    {
     "name": "stderr",
     "output_type": "stream",
     "text": [
      "Loading CFDImage values:  21%|██        | 2464/12000 [00:18<01:05, 145.30it/s]"
     ]
    },
    {
     "name": "stdout",
     "output_type": "stream",
     "text": [
      "Moved C:/Users/User/Documents/GenerateData/GeneratedData\\140 to C:/Users/User/Documents/GenerateData__20000\\140\n"
     ]
    },
    {
     "name": "stderr",
     "output_type": "stream",
     "text": [
      "Loading CFDImage values:  21%|██        | 2528/12000 [00:18<01:05, 144.59it/s]"
     ]
    },
    {
     "name": "stdout",
     "output_type": "stream",
     "text": [
      "Moved C:/Users/User/Documents/GenerateData/GeneratedData\\1450 to C:/Users/User/Documents/GenerateData__20000\\1450\n"
     ]
    },
    {
     "name": "stderr",
     "output_type": "stream",
     "text": [
      "Loading CFDImage values:  23%|██▎       | 2736/12000 [00:20<01:13, 125.84it/s]"
     ]
    },
    {
     "name": "stdout",
     "output_type": "stream",
     "text": [
      "Moved C:/Users/User/Documents/GenerateData/GeneratedData\\1639 to C:/Users/User/Documents/GenerateData__20000\\1639\n"
     ]
    },
    {
     "name": "stderr",
     "output_type": "stream",
     "text": [
      "Loading CFDImage values:  24%|██▍       | 2934/12000 [00:22<01:13, 122.88it/s]"
     ]
    },
    {
     "name": "stdout",
     "output_type": "stream",
     "text": [
      "Moved C:/Users/User/Documents/GenerateData/GeneratedData\\1828 to C:/Users/User/Documents/GenerateData__20000\\1828\n"
     ]
    },
    {
     "name": "stderr",
     "output_type": "stream",
     "text": [
      "Loading CFDImage values:  25%|██▍       | 2962/12000 [00:22<01:13, 123.76it/s]"
     ]
    },
    {
     "name": "stdout",
     "output_type": "stream",
     "text": [
      "Moved C:/Users/User/Documents/GenerateData/GeneratedData\\1855 to C:/Users/User/Documents/GenerateData__20000\\1855\n"
     ]
    },
    {
     "name": "stderr",
     "output_type": "stream",
     "text": [
      "Loading CFDImage values:  25%|██▌       | 3048/12000 [00:23<01:05, 137.41it/s]"
     ]
    },
    {
     "name": "stdout",
     "output_type": "stream",
     "text": [
      "Moved C:/Users/User/Documents/GenerateData/GeneratedData\\1926 to C:/Users/User/Documents/GenerateData__20000\\1926\n"
     ]
    },
    {
     "name": "stderr",
     "output_type": "stream",
     "text": [
      "Loading CFDImage values:  28%|██▊       | 3318/12000 [00:24<01:01, 142.28it/s]"
     ]
    },
    {
     "name": "stdout",
     "output_type": "stream",
     "text": [
      "Moved C:/Users/User/Documents/GenerateData/GeneratedData\\2169 to C:/Users/User/Documents/GenerateData__20000\\2169\n"
     ]
    },
    {
     "name": "stderr",
     "output_type": "stream",
     "text": [
      "Loading CFDImage values:  29%|██▊       | 3422/12000 [00:25<01:05, 131.64it/s]"
     ]
    },
    {
     "name": "stdout",
     "output_type": "stream",
     "text": [
      "Moved C:/Users/User/Documents/GenerateData/GeneratedData\\2261 to C:/Users/User/Documents/GenerateData__20000\\2261\n"
     ]
    },
    {
     "name": "stderr",
     "output_type": "stream",
     "text": [
      "Loading CFDImage values:  29%|██▉       | 3494/12000 [00:26<01:03, 133.54it/s]"
     ]
    },
    {
     "name": "stdout",
     "output_type": "stream",
     "text": [
      "Moved C:/Users/User/Documents/GenerateData/GeneratedData\\2324 to C:/Users/User/Documents/GenerateData__20000\\2324\n"
     ]
    },
    {
     "name": "stderr",
     "output_type": "stream",
     "text": [
      "Loading CFDImage values:  30%|██▉       | 3555/12000 [00:26<01:02, 134.87it/s]"
     ]
    },
    {
     "name": "stdout",
     "output_type": "stream",
     "text": [
      "Moved C:/Users/User/Documents/GenerateData/GeneratedData\\2383 to C:/Users/User/Documents/GenerateData__20000\\2383\n"
     ]
    },
    {
     "name": "stderr",
     "output_type": "stream",
     "text": [
      "Loading CFDImage values:  30%|███       | 3633/12000 [00:27<00:59, 140.89it/s]"
     ]
    },
    {
     "name": "stdout",
     "output_type": "stream",
     "text": [
      "Moved C:/Users/User/Documents/GenerateData/GeneratedData\\2449 to C:/Users/User/Documents/GenerateData__20000\\2449\n"
     ]
    },
    {
     "name": "stderr",
     "output_type": "stream",
     "text": [
      "Loading CFDImage values:  32%|███▏      | 3818/12000 [00:28<00:58, 141.02it/s]"
     ]
    },
    {
     "name": "stdout",
     "output_type": "stream",
     "text": [
      "Moved C:/Users/User/Documents/GenerateData/GeneratedData\\2622 to C:/Users/User/Documents/GenerateData__20000\\2622\n"
     ]
    },
    {
     "name": "stderr",
     "output_type": "stream",
     "text": [
      "Loading CFDImage values:  33%|███▎      | 3975/12000 [00:29<00:56, 143.05it/s]"
     ]
    },
    {
     "name": "stdout",
     "output_type": "stream",
     "text": [
      "Moved C:/Users/User/Documents/GenerateData/GeneratedData\\2757 to C:/Users/User/Documents/GenerateData__20000\\2757\n",
      "Moved C:/Users/User/Documents/GenerateData/GeneratedData\\2765 to C:/Users/User/Documents/GenerateData__20000\\2765\n",
      "Moved C:/Users/User/Documents/GenerateData/GeneratedData\\278 to C:/Users/User/Documents/GenerateData__20000\\278\n"
     ]
    },
    {
     "name": "stderr",
     "output_type": "stream",
     "text": [
      "Loading CFDImage values:  33%|███▎      | 4005/12000 [00:29<01:00, 133.01it/s]"
     ]
    },
    {
     "name": "stdout",
     "output_type": "stream",
     "text": [
      "Moved C:/Users/User/Documents/GenerateData/GeneratedData\\2790 to C:/Users/User/Documents/GenerateData__20000\\2790\n",
      "Moved C:/Users/User/Documents/GenerateData/GeneratedData\\28 to C:/Users/User/Documents/GenerateData__20000\\28\n"
     ]
    },
    {
     "name": "stderr",
     "output_type": "stream",
     "text": [
      "Loading CFDImage values:  34%|███▍      | 4091/12000 [00:30<00:59, 132.00it/s]"
     ]
    },
    {
     "name": "stdout",
     "output_type": "stream",
     "text": [
      "Moved C:/Users/User/Documents/GenerateData/GeneratedData\\2867 to C:/Users/User/Documents/GenerateData__20000\\2867\n",
      "Moved C:/Users/User/Documents/GenerateData/GeneratedData\\2885 to C:/Users/User/Documents/GenerateData__20000\\2885\n"
     ]
    },
    {
     "name": "stderr",
     "output_type": "stream",
     "text": [
      "Loading CFDImage values:  36%|███▌      | 4272/12000 [00:31<01:01, 126.36it/s]"
     ]
    },
    {
     "name": "stdout",
     "output_type": "stream",
     "text": [
      "Moved C:/Users/User/Documents/GenerateData/GeneratedData\\3022 to C:/Users/User/Documents/GenerateData__20000\\3022\n"
     ]
    },
    {
     "name": "stderr",
     "output_type": "stream",
     "text": [
      "Loading CFDImage values:  36%|███▌      | 4348/12000 [00:32<00:57, 133.85it/s]"
     ]
    },
    {
     "name": "stdout",
     "output_type": "stream",
     "text": [
      "Moved C:/Users/User/Documents/GenerateData/GeneratedData\\3092 to C:/Users/User/Documents/GenerateData__20000\\3092\n"
     ]
    },
    {
     "name": "stderr",
     "output_type": "stream",
     "text": [
      "Loading CFDImage values:  37%|███▋      | 4474/12000 [00:33<00:50, 147.95it/s]"
     ]
    },
    {
     "name": "stdout",
     "output_type": "stream",
     "text": [
      "Moved C:/Users/User/Documents/GenerateData/GeneratedData\\3203 to C:/Users/User/Documents/GenerateData__20000\\3203\n",
      "Moved C:/Users/User/Documents/GenerateData/GeneratedData\\3221 to C:/Users/User/Documents/GenerateData__20000\\3221\n"
     ]
    },
    {
     "name": "stderr",
     "output_type": "stream",
     "text": [
      "Loading CFDImage values:  38%|███▊      | 4548/12000 [00:33<00:57, 130.61it/s]"
     ]
    },
    {
     "name": "stdout",
     "output_type": "stream",
     "text": [
      "Moved C:/Users/User/Documents/GenerateData/GeneratedData\\3269 to C:/Users/User/Documents/GenerateData__20000\\3269\n"
     ]
    },
    {
     "name": "stderr",
     "output_type": "stream",
     "text": [
      "Loading CFDImage values:  38%|███▊      | 4611/12000 [00:34<00:51, 143.91it/s]"
     ]
    },
    {
     "name": "stdout",
     "output_type": "stream",
     "text": [
      "Moved C:/Users/User/Documents/GenerateData/GeneratedData\\3337 to C:/Users/User/Documents/GenerateData__20000\\3337\n"
     ]
    },
    {
     "name": "stderr",
     "output_type": "stream",
     "text": [
      "Loading CFDImage values:  39%|███▉      | 4715/12000 [00:35<00:56, 127.93it/s]"
     ]
    },
    {
     "name": "stdout",
     "output_type": "stream",
     "text": [
      "Moved C:/Users/User/Documents/GenerateData/GeneratedData\\3424 to C:/Users/User/Documents/GenerateData__20000\\3424\n"
     ]
    },
    {
     "name": "stderr",
     "output_type": "stream",
     "text": [
      "Loading CFDImage values:  40%|███▉      | 4755/12000 [00:35<00:59, 122.11it/s]"
     ]
    },
    {
     "name": "stdout",
     "output_type": "stream",
     "text": [
      "Moved C:/Users/User/Documents/GenerateData/GeneratedData\\3464 to C:/Users/User/Documents/GenerateData__20000\\3464\n"
     ]
    },
    {
     "name": "stderr",
     "output_type": "stream",
     "text": [
      "Loading CFDImage values:  43%|████▎     | 5139/12000 [00:38<00:51, 134.33it/s]"
     ]
    },
    {
     "name": "stdout",
     "output_type": "stream",
     "text": [
      "Moved C:/Users/User/Documents/GenerateData/GeneratedData\\381 to C:/Users/User/Documents/GenerateData__20000\\381\n"
     ]
    },
    {
     "name": "stderr",
     "output_type": "stream",
     "text": [
      "Loading CFDImage values:  43%|████▎     | 5182/12000 [00:38<00:51, 131.38it/s]"
     ]
    },
    {
     "name": "stdout",
     "output_type": "stream",
     "text": [
      "Moved C:/Users/User/Documents/GenerateData/GeneratedData\\3851 to C:/Users/User/Documents/GenerateData__20000\\3851\n"
     ]
    },
    {
     "name": "stderr",
     "output_type": "stream",
     "text": [
      "Loading CFDImage values:  45%|████▍     | 5397/12000 [00:40<00:49, 132.67it/s]"
     ]
    },
    {
     "name": "stdout",
     "output_type": "stream",
     "text": [
      "Moved C:/Users/User/Documents/GenerateData/GeneratedData\\4031 to C:/Users/User/Documents/GenerateData__20000\\4031\n"
     ]
    },
    {
     "name": "stderr",
     "output_type": "stream",
     "text": [
      "Loading CFDImage values:  47%|████▋     | 5694/12000 [00:42<00:44, 140.52it/s]"
     ]
    },
    {
     "name": "stdout",
     "output_type": "stream",
     "text": [
      "Moved C:/Users/User/Documents/GenerateData/GeneratedData\\4306 to C:/Users/User/Documents/GenerateData__20000\\4306\n",
      "Moved C:/Users/User/Documents/GenerateData/GeneratedData\\4330 to C:/Users/User/Documents/GenerateData__20000\\4330\n"
     ]
    },
    {
     "name": "stderr",
     "output_type": "stream",
     "text": [
      "Loading CFDImage values:  48%|████▊     | 5806/12000 [00:43<00:47, 131.14it/s]"
     ]
    },
    {
     "name": "stdout",
     "output_type": "stream",
     "text": [
      "Moved C:/Users/User/Documents/GenerateData/GeneratedData\\441 to C:/Users/User/Documents/GenerateData__20000\\441\n"
     ]
    },
    {
     "name": "stderr",
     "output_type": "stream",
     "text": [
      "Loading CFDImage values:  49%|████▉     | 5866/12000 [00:44<00:46, 132.44it/s]"
     ]
    },
    {
     "name": "stdout",
     "output_type": "stream",
     "text": [
      "Moved C:/Users/User/Documents/GenerateData/GeneratedData\\4470 to C:/Users/User/Documents/GenerateData__20000\\4470\n"
     ]
    },
    {
     "name": "stderr",
     "output_type": "stream",
     "text": [
      "Loading CFDImage values:  49%|████▉     | 5933/12000 [00:44<00:50, 120.77it/s]"
     ]
    },
    {
     "name": "stdout",
     "output_type": "stream",
     "text": [
      "Moved C:/Users/User/Documents/GenerateData/GeneratedData\\4517 to C:/Users/User/Documents/GenerateData__20000\\4517\n"
     ]
    },
    {
     "name": "stderr",
     "output_type": "stream",
     "text": [
      "Loading CFDImage values:  51%|█████     | 6065/12000 [00:45<00:45, 130.31it/s]"
     ]
    },
    {
     "name": "stdout",
     "output_type": "stream",
     "text": [
      "Moved C:/Users/User/Documents/GenerateData/GeneratedData\\4642 to C:/Users/User/Documents/GenerateData__20000\\4642\n"
     ]
    },
    {
     "name": "stderr",
     "output_type": "stream",
     "text": [
      "Loading CFDImage values:  52%|█████▏    | 6205/12000 [00:46<00:42, 136.05it/s]"
     ]
    },
    {
     "name": "stdout",
     "output_type": "stream",
     "text": [
      "Moved C:/Users/User/Documents/GenerateData/GeneratedData\\4768 to C:/Users/User/Documents/GenerateData__20000\\4768\n",
      "Moved C:/Users/User/Documents/GenerateData/GeneratedData\\479 to C:/Users/User/Documents/GenerateData__20000\\479\n"
     ]
    },
    {
     "name": "stderr",
     "output_type": "stream",
     "text": [
      "Loading CFDImage values:  52%|█████▏    | 6274/12000 [00:47<00:44, 127.70it/s]"
     ]
    },
    {
     "name": "stdout",
     "output_type": "stream",
     "text": [
      "Moved C:/Users/User/Documents/GenerateData/GeneratedData\\4824 to C:/Users/User/Documents/GenerateData__20000\\4824\n"
     ]
    },
    {
     "name": "stderr",
     "output_type": "stream",
     "text": [
      "Loading CFDImage values:  53%|█████▎    | 6342/12000 [00:47<00:44, 128.33it/s]"
     ]
    },
    {
     "name": "stdout",
     "output_type": "stream",
     "text": [
      "Moved C:/Users/User/Documents/GenerateData/GeneratedData\\4884 to C:/Users/User/Documents/GenerateData__20000\\4884\n"
     ]
    },
    {
     "name": "stderr",
     "output_type": "stream",
     "text": [
      "Loading CFDImage values:  55%|█████▌    | 6623/12000 [00:49<00:37, 144.75it/s]"
     ]
    },
    {
     "name": "stdout",
     "output_type": "stream",
     "text": [
      "Moved C:/Users/User/Documents/GenerateData/GeneratedData\\5139 to C:/Users/User/Documents/GenerateData__20000\\5139\n"
     ]
    },
    {
     "name": "stderr",
     "output_type": "stream",
     "text": [
      "Loading CFDImage values:  56%|█████▌    | 6693/12000 [00:50<00:42, 126.31it/s]"
     ]
    },
    {
     "name": "stdout",
     "output_type": "stream",
     "text": [
      "Moved C:/Users/User/Documents/GenerateData/GeneratedData\\5206 to C:/Users/User/Documents/GenerateData__20000\\5206\n"
     ]
    },
    {
     "name": "stderr",
     "output_type": "stream",
     "text": [
      "Loading CFDImage values:  56%|█████▌    | 6735/12000 [00:50<00:38, 135.90it/s]"
     ]
    },
    {
     "name": "stdout",
     "output_type": "stream",
     "text": [
      "Moved C:/Users/User/Documents/GenerateData/GeneratedData\\5235 to C:/Users/User/Documents/GenerateData__20000\\5235\n"
     ]
    },
    {
     "name": "stderr",
     "output_type": "stream",
     "text": [
      "Loading CFDImage values:  58%|█████▊    | 6907/12000 [00:52<00:42, 119.21it/s]"
     ]
    },
    {
     "name": "stdout",
     "output_type": "stream",
     "text": [
      "Moved C:/Users/User/Documents/GenerateData/GeneratedData\\5393 to C:/Users/User/Documents/GenerateData__20000\\5393\n"
     ]
    },
    {
     "name": "stderr",
     "output_type": "stream",
     "text": [
      "Loading CFDImage values:  58%|█████▊    | 6978/12000 [00:52<00:37, 134.22it/s]"
     ]
    },
    {
     "name": "stdout",
     "output_type": "stream",
     "text": [
      "Moved C:/Users/User/Documents/GenerateData/GeneratedData\\5453 to C:/Users/User/Documents/GenerateData__20000\\5453\n",
      "Moved C:/Users/User/Documents/GenerateData/GeneratedData\\547 to C:/Users/User/Documents/GenerateData__20000\\547\n"
     ]
    },
    {
     "name": "stderr",
     "output_type": "stream",
     "text": [
      "Loading CFDImage values:  59%|█████▉    | 7054/12000 [00:53<00:37, 132.44it/s]"
     ]
    },
    {
     "name": "stdout",
     "output_type": "stream",
     "text": [
      "Moved C:/Users/User/Documents/GenerateData/GeneratedData\\5525 to C:/Users/User/Documents/GenerateData__20000\\5525\n"
     ]
    },
    {
     "name": "stderr",
     "output_type": "stream",
     "text": [
      "Loading CFDImage values:  59%|█████▉    | 7133/12000 [00:53<00:34, 139.28it/s]"
     ]
    },
    {
     "name": "stdout",
     "output_type": "stream",
     "text": [
      "Moved C:/Users/User/Documents/GenerateData/GeneratedData\\5598 to C:/Users/User/Documents/GenerateData__20000\\5598\n"
     ]
    },
    {
     "name": "stderr",
     "output_type": "stream",
     "text": [
      "Loading CFDImage values:  62%|██████▏   | 7419/12000 [00:55<00:36, 124.10it/s]"
     ]
    },
    {
     "name": "stdout",
     "output_type": "stream",
     "text": [
      "Moved C:/Users/User/Documents/GenerateData/GeneratedData\\5854 to C:/Users/User/Documents/GenerateData__20000\\5854\n",
      "Moved C:/Users/User/Documents/GenerateData/GeneratedData\\5862 to C:/Users/User/Documents/GenerateData__20000\\5862\n"
     ]
    },
    {
     "name": "stderr",
     "output_type": "stream",
     "text": [
      "Loading CFDImage values:  63%|██████▎   | 7565/12000 [00:57<00:33, 133.50it/s]"
     ]
    },
    {
     "name": "stdout",
     "output_type": "stream",
     "text": [
      "Moved C:/Users/User/Documents/GenerateData/GeneratedData\\5982 to C:/Users/User/Documents/GenerateData__20000\\5982\n"
     ]
    },
    {
     "name": "stderr",
     "output_type": "stream",
     "text": [
      "Loading CFDImage values:  64%|██████▍   | 7671/12000 [00:57<00:30, 144.01it/s]"
     ]
    },
    {
     "name": "stdout",
     "output_type": "stream",
     "text": [
      "Moved C:/Users/User/Documents/GenerateData/GeneratedData\\6085 to C:/Users/User/Documents/GenerateData__20000\\6085\n",
      "Moved C:/Users/User/Documents/GenerateData/GeneratedData\\6108 to C:/Users/User/Documents/GenerateData__20000\\6108\n"
     ]
    },
    {
     "name": "stderr",
     "output_type": "stream",
     "text": [
      "Loading CFDImage values:  64%|██████▍   | 7733/12000 [00:58<00:29, 146.85it/s]"
     ]
    },
    {
     "name": "stdout",
     "output_type": "stream",
     "text": [
      "Moved C:/Users/User/Documents/GenerateData/GeneratedData\\6132 to C:/Users/User/Documents/GenerateData__20000\\6132\n",
      "Moved C:/Users/User/Documents/GenerateData/GeneratedData\\6143 to C:/Users/User/Documents/GenerateData__20000\\6143\n"
     ]
    },
    {
     "name": "stderr",
     "output_type": "stream",
     "text": [
      "Loading CFDImage values:  67%|██████▋   | 7987/12000 [01:00<00:35, 112.76it/s]"
     ]
    },
    {
     "name": "stdout",
     "output_type": "stream",
     "text": [
      "Moved C:/Users/User/Documents/GenerateData/GeneratedData\\6375 to C:/Users/User/Documents/GenerateData__20000\\6375\n"
     ]
    },
    {
     "name": "stderr",
     "output_type": "stream",
     "text": [
      "Loading CFDImage values:  69%|██████▉   | 8250/12000 [01:02<00:26, 143.17it/s]"
     ]
    },
    {
     "name": "stdout",
     "output_type": "stream",
     "text": [
      "Moved C:/Users/User/Documents/GenerateData/GeneratedData\\6602 to C:/Users/User/Documents/GenerateData__20000\\6602\n"
     ]
    },
    {
     "name": "stderr",
     "output_type": "stream",
     "text": [
      "Loading CFDImage values:  69%|██████▉   | 8295/12000 [01:02<00:26, 140.35it/s]"
     ]
    },
    {
     "name": "stdout",
     "output_type": "stream",
     "text": [
      "Moved C:/Users/User/Documents/GenerateData/GeneratedData\\6640 to C:/Users/User/Documents/GenerateData__20000\\6640\n"
     ]
    },
    {
     "name": "stderr",
     "output_type": "stream",
     "text": [
      "Loading CFDImage values:  69%|██████▉   | 8338/12000 [01:02<00:27, 130.86it/s]"
     ]
    },
    {
     "name": "stdout",
     "output_type": "stream",
     "text": [
      "Moved C:/Users/User/Documents/GenerateData/GeneratedData\\6684 to C:/Users/User/Documents/GenerateData__20000\\6684\n",
      "Moved C:/Users/User/Documents/GenerateData/GeneratedData\\6707 to C:/Users/User/Documents/GenerateData__20000\\6707\n"
     ]
    },
    {
     "name": "stderr",
     "output_type": "stream",
     "text": [
      "Loading CFDImage values:  70%|███████   | 8420/12000 [01:03<00:23, 155.47it/s]"
     ]
    },
    {
     "name": "stdout",
     "output_type": "stream",
     "text": [
      "Moved C:/Users/User/Documents/GenerateData/GeneratedData\\6748 to C:/Users/User/Documents/GenerateData__20000\\6748\n",
      "Moved C:/Users/User/Documents/GenerateData/GeneratedData\\6752 to C:/Users/User/Documents/GenerateData__20000\\6752\n"
     ]
    },
    {
     "name": "stderr",
     "output_type": "stream",
     "text": [
      "Loading CFDImage values:  71%|███████   | 8503/12000 [01:03<00:26, 130.29it/s]"
     ]
    },
    {
     "name": "stdout",
     "output_type": "stream",
     "text": [
      "Moved C:/Users/User/Documents/GenerateData/GeneratedData\\6834 to C:/Users/User/Documents/GenerateData__20000\\6834\n"
     ]
    },
    {
     "name": "stderr",
     "output_type": "stream",
     "text": [
      "Loading CFDImage values:  71%|███████▏  | 8577/12000 [01:04<00:27, 123.25it/s]"
     ]
    },
    {
     "name": "stdout",
     "output_type": "stream",
     "text": [
      "Moved C:/Users/User/Documents/GenerateData/GeneratedData\\6904 to C:/Users/User/Documents/GenerateData__20000\\6904\n"
     ]
    },
    {
     "name": "stderr",
     "output_type": "stream",
     "text": [
      "Loading CFDImage values:  72%|███████▏  | 8622/12000 [01:04<00:26, 128.01it/s]"
     ]
    },
    {
     "name": "stdout",
     "output_type": "stream",
     "text": [
      "Moved C:/Users/User/Documents/GenerateData/GeneratedData\\6940 to C:/Users/User/Documents/GenerateData__20000\\6940\n",
      "Moved C:/Users/User/Documents/GenerateData/GeneratedData\\6954 to C:/Users/User/Documents/GenerateData__20000\\6954\n"
     ]
    },
    {
     "name": "stderr",
     "output_type": "stream",
     "text": [
      "Loading CFDImage values:  72%|███████▏  | 8648/12000 [01:05<00:29, 115.30it/s]"
     ]
    },
    {
     "name": "stdout",
     "output_type": "stream",
     "text": [
      "Moved C:/Users/User/Documents/GenerateData/GeneratedData\\6964 to C:/Users/User/Documents/GenerateData__20000\\6964\n",
      "Moved C:/Users/User/Documents/GenerateData/GeneratedData\\6969 to C:/Users/User/Documents/GenerateData__20000\\6969\n",
      "Moved C:/Users/User/Documents/GenerateData/GeneratedData\\6972 to C:/Users/User/Documents/GenerateData__20000\\6972\n"
     ]
    },
    {
     "name": "stderr",
     "output_type": "stream",
     "text": [
      "Loading CFDImage values:  72%|███████▏  | 8673/12000 [01:05<00:28, 116.61it/s]"
     ]
    },
    {
     "name": "stdout",
     "output_type": "stream",
     "text": [
      "Moved C:/Users/User/Documents/GenerateData/GeneratedData\\6986 to C:/Users/User/Documents/GenerateData__20000\\6986\n"
     ]
    },
    {
     "name": "stderr",
     "output_type": "stream",
     "text": [
      "Loading CFDImage values:  72%|███████▏  | 8699/12000 [01:05<00:27, 119.16it/s]"
     ]
    },
    {
     "name": "stdout",
     "output_type": "stream",
     "text": [
      "Moved C:/Users/User/Documents/GenerateData/GeneratedData\\7012 to C:/Users/User/Documents/GenerateData__20000\\7012\n"
     ]
    },
    {
     "name": "stderr",
     "output_type": "stream",
     "text": [
      "Loading CFDImage values:  74%|███████▎  | 8821/12000 [01:06<00:26, 122.17it/s]"
     ]
    },
    {
     "name": "stdout",
     "output_type": "stream",
     "text": [
      "Moved C:/Users/User/Documents/GenerateData/GeneratedData\\7122 to C:/Users/User/Documents/GenerateData__20000\\7122\n"
     ]
    },
    {
     "name": "stderr",
     "output_type": "stream",
     "text": [
      "Loading CFDImage values:  75%|███████▍  | 8968/12000 [01:07<00:22, 132.01it/s]"
     ]
    },
    {
     "name": "stdout",
     "output_type": "stream",
     "text": [
      "Moved C:/Users/User/Documents/GenerateData/GeneratedData\\726 to C:/Users/User/Documents/GenerateData__20000\\726\n"
     ]
    },
    {
     "name": "stderr",
     "output_type": "stream",
     "text": [
      "Loading CFDImage values:  75%|███████▌  | 9054/12000 [01:08<00:23, 128.08it/s]"
     ]
    },
    {
     "name": "stdout",
     "output_type": "stream",
     "text": [
      "Moved C:/Users/User/Documents/GenerateData/GeneratedData\\7332 to C:/Users/User/Documents/GenerateData__20000\\7332\n"
     ]
    },
    {
     "name": "stderr",
     "output_type": "stream",
     "text": [
      "Loading CFDImage values:  76%|███████▌  | 9110/12000 [01:08<00:22, 126.51it/s]"
     ]
    },
    {
     "name": "stdout",
     "output_type": "stream",
     "text": [
      "Moved C:/Users/User/Documents/GenerateData/GeneratedData\\7383 to C:/Users/User/Documents/GenerateData__20000\\7383\n"
     ]
    },
    {
     "name": "stderr",
     "output_type": "stream",
     "text": [
      "Loading CFDImage values:  76%|███████▋  | 9177/12000 [01:09<00:24, 115.59it/s]"
     ]
    },
    {
     "name": "stdout",
     "output_type": "stream",
     "text": [
      "Moved C:/Users/User/Documents/GenerateData/GeneratedData\\745 to C:/Users/User/Documents/GenerateData__20000\\745\n"
     ]
    },
    {
     "name": "stderr",
     "output_type": "stream",
     "text": [
      "Loading CFDImage values:  77%|███████▋  | 9217/12000 [01:09<00:22, 122.38it/s]"
     ]
    },
    {
     "name": "stdout",
     "output_type": "stream",
     "text": [
      "Moved C:/Users/User/Documents/GenerateData/GeneratedData\\7477 to C:/Users/User/Documents/GenerateData__20000\\7477\n",
      "Moved C:/Users/User/Documents/GenerateData/GeneratedData\\7482 to C:/Users/User/Documents/GenerateData__20000\\7482\n"
     ]
    },
    {
     "name": "stderr",
     "output_type": "stream",
     "text": [
      "Loading CFDImage values:  78%|███████▊  | 9370/12000 [01:10<00:20, 126.29it/s]"
     ]
    },
    {
     "name": "stdout",
     "output_type": "stream",
     "text": [
      "Moved C:/Users/User/Documents/GenerateData/GeneratedData\\7622 to C:/Users/User/Documents/GenerateData__20000\\7622\n",
      "Moved C:/Users/User/Documents/GenerateData/GeneratedData\\7641 to C:/Users/User/Documents/GenerateData__20000\\7641\n"
     ]
    },
    {
     "name": "stderr",
     "output_type": "stream",
     "text": [
      "Loading CFDImage values:  78%|███████▊  | 9413/12000 [01:11<00:21, 118.14it/s]"
     ]
    },
    {
     "name": "stdout",
     "output_type": "stream",
     "text": [
      "Moved C:/Users/User/Documents/GenerateData/GeneratedData\\7650 to C:/Users/User/Documents/GenerateData__20000\\7650\n",
      "Moved C:/Users/User/Documents/GenerateData/GeneratedData\\7666 to C:/Users/User/Documents/GenerateData__20000\\7666\n"
     ]
    },
    {
     "name": "stderr",
     "output_type": "stream",
     "text": [
      "Loading CFDImage values:  79%|███████▉  | 9485/12000 [01:11<00:19, 127.36it/s]"
     ]
    },
    {
     "name": "stdout",
     "output_type": "stream",
     "text": [
      "Moved C:/Users/User/Documents/GenerateData/GeneratedData\\7716 to C:/Users/User/Documents/GenerateData__20000\\7716\n",
      "Moved C:/Users/User/Documents/GenerateData/GeneratedData\\7720 to C:/Users/User/Documents/GenerateData__20000\\7720\n"
     ]
    },
    {
     "name": "stderr",
     "output_type": "stream",
     "text": [
      "Loading CFDImage values:  79%|███████▉  | 9526/12000 [01:12<00:20, 121.41it/s]"
     ]
    },
    {
     "name": "stdout",
     "output_type": "stream",
     "text": [
      "Moved C:/Users/User/Documents/GenerateData/GeneratedData\\7751 to C:/Users/User/Documents/GenerateData__20000\\7751\n",
      "Moved C:/Users/User/Documents/GenerateData/GeneratedData\\7758 to C:/Users/User/Documents/GenerateData__20000\\7758\n",
      "Moved C:/Users/User/Documents/GenerateData/GeneratedData\\7762 to C:/Users/User/Documents/GenerateData__20000\\7762\n",
      "Moved C:/Users/User/Documents/GenerateData/GeneratedData\\7773 to C:/Users/User/Documents/GenerateData__20000\\7773\n"
     ]
    },
    {
     "name": "stderr",
     "output_type": "stream",
     "text": [
      "Loading CFDImage values:  80%|███████▉  | 9588/12000 [01:12<00:21, 114.58it/s]"
     ]
    },
    {
     "name": "stdout",
     "output_type": "stream",
     "text": [
      "Moved C:/Users/User/Documents/GenerateData/GeneratedData\\781 to C:/Users/User/Documents/GenerateData__20000\\781\n"
     ]
    },
    {
     "name": "stderr",
     "output_type": "stream",
     "text": [
      "Loading CFDImage values:  81%|████████  | 9742/12000 [01:13<00:18, 122.73it/s]"
     ]
    },
    {
     "name": "stdout",
     "output_type": "stream",
     "text": [
      "Moved C:/Users/User/Documents/GenerateData/GeneratedData\\7953 to C:/Users/User/Documents/GenerateData__20000\\7953\n",
      "Moved C:/Users/User/Documents/GenerateData/GeneratedData\\7976 to C:/Users/User/Documents/GenerateData__20000\\7976\n"
     ]
    },
    {
     "name": "stderr",
     "output_type": "stream",
     "text": [
      "Loading CFDImage values:  83%|████████▎ | 9947/12000 [01:15<00:16, 128.20it/s]"
     ]
    },
    {
     "name": "stdout",
     "output_type": "stream",
     "text": [
      "Moved C:/Users/User/Documents/GenerateData/GeneratedData\\8139 to C:/Users/User/Documents/GenerateData__20000\\8139\n"
     ]
    },
    {
     "name": "stderr",
     "output_type": "stream",
     "text": [
      "Loading CFDImage values:  86%|████████▌ | 10291/12000 [01:18<00:12, 135.84it/s]"
     ]
    },
    {
     "name": "stdout",
     "output_type": "stream",
     "text": [
      "Moved C:/Users/User/Documents/GenerateData/GeneratedData\\8444 to C:/Users/User/Documents/GenerateData__20000\\8444\n"
     ]
    },
    {
     "name": "stderr",
     "output_type": "stream",
     "text": [
      "Loading CFDImage values:  86%|████████▌ | 10336/12000 [01:18<00:12, 128.43it/s]"
     ]
    },
    {
     "name": "stdout",
     "output_type": "stream",
     "text": [
      "Moved C:/Users/User/Documents/GenerateData/GeneratedData\\8491 to C:/Users/User/Documents/GenerateData__20000\\8491\n"
     ]
    },
    {
     "name": "stderr",
     "output_type": "stream",
     "text": [
      "Loading CFDImage values:  88%|████████▊ | 10520/12000 [01:19<00:10, 135.88it/s]"
     ]
    },
    {
     "name": "stdout",
     "output_type": "stream",
     "text": [
      "Moved C:/Users/User/Documents/GenerateData/GeneratedData\\8645 to C:/Users/User/Documents/GenerateData__20000\\8645\n"
     ]
    },
    {
     "name": "stderr",
     "output_type": "stream",
     "text": [
      "Loading CFDImage values:  88%|████████▊ | 10571/12000 [01:20<00:12, 111.08it/s]"
     ]
    },
    {
     "name": "stdout",
     "output_type": "stream",
     "text": [
      "Moved C:/Users/User/Documents/GenerateData/GeneratedData\\8697 to C:/Users/User/Documents/GenerateData__20000\\8697\n"
     ]
    },
    {
     "name": "stderr",
     "output_type": "stream",
     "text": [
      "Loading CFDImage values:  91%|█████████ | 10878/12000 [01:22<00:08, 129.21it/s]"
     ]
    },
    {
     "name": "stdout",
     "output_type": "stream",
     "text": [
      "Moved C:/Users/User/Documents/GenerateData/GeneratedData\\8968 to C:/Users/User/Documents/GenerateData__20000\\8968\n"
     ]
    },
    {
     "name": "stderr",
     "output_type": "stream",
     "text": [
      "Loading CFDImage values:  91%|█████████ | 10948/12000 [01:23<00:08, 126.49it/s]"
     ]
    },
    {
     "name": "stdout",
     "output_type": "stream",
     "text": [
      "Moved C:/Users/User/Documents/GenerateData/GeneratedData\\9035 to C:/Users/User/Documents/GenerateData__20000\\9035\n",
      "Moved C:/Users/User/Documents/GenerateData/GeneratedData\\9038 to C:/Users/User/Documents/GenerateData__20000\\9038\n"
     ]
    },
    {
     "name": "stderr",
     "output_type": "stream",
     "text": [
      "Loading CFDImage values:  94%|█████████▎| 11222/12000 [01:25<00:05, 130.97it/s]"
     ]
    },
    {
     "name": "stdout",
     "output_type": "stream",
     "text": [
      "Moved C:/Users/User/Documents/GenerateData/GeneratedData\\9283 to C:/Users/User/Documents/GenerateData__20000\\9283\n",
      "Moved C:/Users/User/Documents/GenerateData/GeneratedData\\9302 to C:/Users/User/Documents/GenerateData__20000\\9302\n"
     ]
    },
    {
     "name": "stderr",
     "output_type": "stream",
     "text": [
      "Loading CFDImage values:  94%|█████████▍| 11277/12000 [01:25<00:05, 127.17it/s]"
     ]
    },
    {
     "name": "stdout",
     "output_type": "stream",
     "text": [
      "Moved C:/Users/User/Documents/GenerateData/GeneratedData\\9330 to C:/Users/User/Documents/GenerateData__20000\\9330\n"
     ]
    },
    {
     "name": "stderr",
     "output_type": "stream",
     "text": [
      "Loading CFDImage values:  95%|█████████▌| 11425/12000 [01:27<00:04, 123.91it/s]"
     ]
    },
    {
     "name": "stdout",
     "output_type": "stream",
     "text": [
      "Moved C:/Users/User/Documents/GenerateData/GeneratedData\\9462 to C:/Users/User/Documents/GenerateData__20000\\9462\n"
     ]
    },
    {
     "name": "stderr",
     "output_type": "stream",
     "text": [
      "Loading CFDImage values:  95%|█████████▌| 11438/12000 [01:27<00:04, 118.49it/s]"
     ]
    },
    {
     "name": "stdout",
     "output_type": "stream",
     "text": [
      "Moved C:/Users/User/Documents/GenerateData/GeneratedData\\9487 to C:/Users/User/Documents/GenerateData__20000\\9487\n",
      "Moved C:/Users/User/Documents/GenerateData/GeneratedData\\9488 to C:/Users/User/Documents/GenerateData__20000\\9488\n"
     ]
    },
    {
     "name": "stderr",
     "output_type": "stream",
     "text": [
      "Loading CFDImage values:  96%|█████████▌| 11492/12000 [01:27<00:04, 122.75it/s]"
     ]
    },
    {
     "name": "stdout",
     "output_type": "stream",
     "text": [
      "Moved C:/Users/User/Documents/GenerateData/GeneratedData\\9522 to C:/Users/User/Documents/GenerateData__20000\\9522\n"
     ]
    },
    {
     "name": "stderr",
     "output_type": "stream",
     "text": [
      "Loading CFDImage values:  97%|█████████▋| 11667/12000 [01:29<00:02, 118.50it/s]"
     ]
    },
    {
     "name": "stdout",
     "output_type": "stream",
     "text": [
      "Moved C:/Users/User/Documents/GenerateData/GeneratedData\\9689 to C:/Users/User/Documents/GenerateData__20000\\9689\n"
     ]
    },
    {
     "name": "stderr",
     "output_type": "stream",
     "text": [
      "Loading CFDImage values:  98%|█████████▊| 11740/12000 [01:29<00:01, 133.05it/s]"
     ]
    },
    {
     "name": "stdout",
     "output_type": "stream",
     "text": [
      "Moved C:/Users/User/Documents/GenerateData/GeneratedData\\9745 to C:/Users/User/Documents/GenerateData__20000\\9745\n"
     ]
    },
    {
     "name": "stderr",
     "output_type": "stream",
     "text": [
      "Loading CFDImage values:  98%|█████████▊| 11769/12000 [01:30<00:01, 125.58it/s]"
     ]
    },
    {
     "name": "stdout",
     "output_type": "stream",
     "text": [
      "Moved C:/Users/User/Documents/GenerateData/GeneratedData\\9780 to C:/Users/User/Documents/GenerateData__20000\\9780\n",
      "Moved C:/Users/User/Documents/GenerateData/GeneratedData\\98 to C:/Users/User/Documents/GenerateData__20000\\98\n"
     ]
    },
    {
     "name": "stderr",
     "output_type": "stream",
     "text": [
      "Loading CFDImage values:  99%|█████████▉| 11914/12000 [01:31<00:00, 130.20it/s]"
     ]
    },
    {
     "name": "stdout",
     "output_type": "stream",
     "text": [
      "Moved C:/Users/User/Documents/GenerateData/GeneratedData\\9900 to C:/Users/User/Documents/GenerateData__20000\\9900\n"
     ]
    },
    {
     "name": "stderr",
     "output_type": "stream",
     "text": [
      "Loading CFDImage values: 100%|██████████| 12000/12000 [01:31<00:00, 130.77it/s]\n"
     ]
    }
   ],
   "source": [
    "#####This script checks for CFDImage.mat files in a directory and moves folders with certain data features\n",
    "# \n",
    "\n",
    "import os\n",
    "import scipy.io as sio\n",
    "import numpy as np\n",
    "from tqdm import tqdm  # for a progress bar\n",
    "import shutil\n",
    "\n",
    "root_dir = 'C:/Users/User/Documents/GenerateData/GeneratedData'\n",
    "dirs = [d for d in os.listdir(root_dir) if os.path.isdir(os.path.join(root_dir, d))]\n",
    "out_dir = 'C:/Users/User/Documents/GenerateData__20000'\n",
    "    \n",
    "for d in tqdm(dirs, desc=\"Loading CFDImage values\"):\n",
    "    mat_path = os.path.join(root_dir, d, \"CFDImage.mat\")\n",
    "    dir_path = os.path.join(root_dir, d)\n",
    "    if os.path.exists(mat_path):\n",
    "        data = sio.loadmat(mat_path)[\"CFDImage\"]\n",
    "        move_flag = False\n",
    "        #check if there is a value larger than 255 or smaller than 0\n",
    "        if np.any(data > 20000):\n",
    "            # print(f\"Warning: {np.sum(data > 20000)} Values out of range > 20000 in {mat_path}\")\n",
    "            move_flag = True\n",
    "        if np.any(data < 0):\n",
    "            # print(f\"Warning: {np.sum(data < 0)} Values out of range < 0 in {mat_path}\")\n",
    "            move_flag = True\n",
    "        if move_flag:\n",
    "            shutil.move(dir_path, os.path.join(out_dir, d))\n",
    "            print(f\"Moved {dir_path} to {os.path.join(out_dir, d)}\")\n",
    "            "
   ]
  }
 ],
 "metadata": {
  "kernelspec": {
   "display_name": ".venv_py311",
   "language": "python",
   "name": "python3"
  },
  "language_info": {
   "codemirror_mode": {
    "name": "ipython",
    "version": 3
   },
   "file_extension": ".py",
   "mimetype": "text/x-python",
   "name": "python",
   "nbconvert_exporter": "python",
   "pygments_lexer": "ipython3",
   "version": "3.11.9"
  }
 },
 "nbformat": 4,
 "nbformat_minor": 5
}
